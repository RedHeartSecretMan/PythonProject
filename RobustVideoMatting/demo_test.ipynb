{
 "cells": [
  {
   "cell_type": "code",
   "execution_count": 24,
   "metadata": {
    "collapsed": false,
    "pycharm": {
     "name": "#%%\n"
    }
   },
   "outputs": [],
   "source": [
    "import torch\n",
    "from torch.utils.data import DataLoader\n",
    "from torchvision.transforms import ToTensor\n",
    "from src.inference_utils import VideoReader, VideoWriter\n",
    "from src.model import MattingNetwork"
   ]
  },
  {
   "cell_type": "code",
   "execution_count": 25,
   "metadata": {
    "collapsed": false,
    "pycharm": {
     "name": "#%%\n"
    }
   },
   "outputs": [
    {
     "data": {
      "text/plain": [
       "<All keys matched successfully>"
      ]
     },
     "execution_count": 25,
     "metadata": {},
     "output_type": "execute_result"
    }
   ],
   "source": [
    "model = MattingNetwork(variant='resnet50').eval() # 或 variant=\"resnet50\"\n",
    "model.load_state_dict(torch.load('rvm_resnet50.pth'))"
   ]
  },
  {
   "cell_type": "code",
   "execution_count": 27,
   "metadata": {
    "collapsed": false,
    "pycharm": {
     "name": "#%%\n"
    }
   },
   "outputs": [],
   "source": [
    "reader = VideoReader('/Users/WangHao/Desktop/屏幕录制2022-07-22 22.55.53.mov', transform=ToTensor())\n",
    "writer = VideoWriter('output1.mp4', frame_rate=30)\n",
    "\n",
    "bgr = torch.tensor([.47, 1, .6]).view(3, 1, 1)  # 绿背景\n",
    "rec = [None] * 4                                # 初始记忆\n",
    "\n",
    "with torch.no_grad():\n",
    "    for src in DataLoader(reader):\n",
    "        fgr, pha, *rec = model(src, *rec, downsample_ratio=0.25)  # 将上一帧的记忆给下一帧\n",
    "        writer.write(fgr * pha + bgr * (1 - pha))\n",
    "\n",
    "writer.close()"
   ]
  }
 ],
 "metadata": {
  "kernelspec": {
   "display_name": "huggingface",
   "language": "python",
   "name": "python3"
  },
  "language_info": {
   "codemirror_mode": {
    "name": "ipython",
    "version": 2
   },
   "file_extension": ".py",
   "mimetype": "text/x-python",
   "name": "python",
   "nbconvert_exporter": "python",
   "pygments_lexer": "ipython2",
   "version": "3.8.16"
  },
  "vscode": {
   "interpreter": {
    "hash": "22657685f323f6adad5908dc41c3487a967b5aa9c39897c5cf3f8a30d6cfa27a"
   }
  }
 },
 "nbformat": 4,
 "nbformat_minor": 0
}
