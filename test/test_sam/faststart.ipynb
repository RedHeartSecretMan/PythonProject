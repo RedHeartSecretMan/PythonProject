{
 "cells": [
  {
   "cell_type": "markdown",
   "metadata": {},
   "source": [
    "## Image prediction"
   ]
  },
  {
   "cell_type": "code",
   "execution_count": null,
   "metadata": {},
   "outputs": [],
   "source": [
    "import torch\n",
    "from sam2.build_sam import build_sam2\n",
    "from sam2.sam2_image_predictor import SAM2ImagePredictor\n",
    "\n",
    "checkpoint = \"./checkpoints/sam2_hiera_large.pt\"\n",
    "model_cfg = \"sam2_hiera_l.yaml\"\n",
    "predictor = SAM2ImagePredictor(build_sam2(model_cfg, checkpoint))\n",
    "\n",
    "with torch.inference_mode(), torch.autocast(\"cuda\", dtype=torch.bfloat16):\n",
    "    predictor.set_image(<your_image>)\n",
    "    masks, _, _ = predictor.predict(<input_prompts>)"
   ]
  },
  {
   "cell_type": "code",
   "execution_count": null,
   "metadata": {},
   "outputs": [],
   "source": [
    "import torch\n",
    "from sam2.sam2_image_predictor import SAM2ImagePredictor\n",
    "\n",
    "predictor = SAM2ImagePredictor.from_pretrained(\"facebook/sam2-hiera-large\")\n",
    "\n",
    "with torch.inference_mode(), torch.autocast(\"cuda\", dtype=torch.bfloat16):\n",
    "    predictor.set_image(<your_image>)\n",
    "    masks, _, _ = predictor.predict(<input_prompts>)"
   ]
  },
  {
   "cell_type": "markdown",
   "metadata": {},
   "source": [
    "## Video prediction"
   ]
  },
  {
   "cell_type": "code",
   "execution_count": null,
   "metadata": {},
   "outputs": [],
   "source": [
    "import torch\n",
    "from sam2.build_sam import build_sam2_video_predictor\n",
    "\n",
    "checkpoint = \"./checkpoints/sam2_hiera_large.pt\"\n",
    "model_cfg = \"sam2_hiera_l.yaml\"\n",
    "predictor = build_sam2_video_predictor(model_cfg, checkpoint)\n",
    "\n",
    "with torch.inference_mode(), torch.autocast(\"cuda\", dtype=torch.bfloat16):\n",
    "    state = predictor.init_state(<your_video>)\n",
    "\n",
    "    # add new prompts and instantly get the output on the same frame\n",
    "    frame_idx, object_ids, masks = predictor.add_new_points_or_box(state, <your_prompts>):\n",
    "\n",
    "    # propagate the prompts to get masklets throughout the video\n",
    "    for frame_idx, object_ids, masks in predictor.propagate_in_video(state):\n",
    "        ..."
   ]
  },
  {
   "cell_type": "code",
   "execution_count": null,
   "metadata": {},
   "outputs": [],
   "source": [
    "import torch\n",
    "from sam2.sam2_video_predictor import SAM2VideoPredictor\n",
    "\n",
    "predictor = SAM2VideoPredictor.from_pretrained(\"facebook/sam2-hiera-large\")\n",
    "\n",
    "with torch.inference_mode(), torch.autocast(\"cuda\", dtype=torch.bfloat16):\n",
    "    state = predictor.init_state(<your_video>)\n",
    "\n",
    "    # add new prompts and instantly get the output on the same frame\n",
    "    frame_idx, object_ids, masks = predictor.add_new_points_or_box(state, <your_prompts>):\n",
    "\n",
    "    # propagate the prompts to get masklets throughout the video\n",
    "    for frame_idx, object_ids, masks in predictor.propagate_in_video(state):\n",
    "        ..."
   ]
  }
 ],
 "metadata": {
  "language_info": {
   "name": "python"
  }
 },
 "nbformat": 4,
 "nbformat_minor": 2
}
