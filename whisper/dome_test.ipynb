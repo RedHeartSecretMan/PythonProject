{
 "cells": [
  {
   "cell_type": "code",
   "execution_count": 1,
   "metadata": {},
   "outputs": [],
   "source": [
    "import os\n",
    "import glob\n",
    "import numpy as np\n",
    "import filetype\n",
    "import ffmpeg\n",
    "import src.whisper as whisper"
   ]
  },
  {
   "attachments": {},
   "cell_type": "markdown",
   "metadata": {},
   "source": [
    "# Offical example 1"
   ]
  },
  {
   "cell_type": "code",
   "execution_count": 5,
   "metadata": {},
   "outputs": [
    {
     "name": "stderr",
     "output_type": "stream",
     "text": [
      "/Users/WangHao/Sites/学习/Python/FunnyProject/Whisper/src/whisper/transcribe.py:114: UserWarning: FP16 is not supported on CPU; using FP32 instead\n",
      "  warnings.warn(\"FP16 is not supported on CPU; using FP32 instead\")\n"
     ]
    },
    {
     "name": "stdout",
     "output_type": "stream",
     "text": [
      " And so my fellow Americans, ask not what your country can do for you, ask what you can do for your country.\n"
     ]
    }
   ],
   "source": [
    "model = whisper.load_model(\"base\")\n",
    "result = model.transcribe(\"./src/tests/jfk.flac\")\n",
    "print(result[\"text\"])"
   ]
  },
  {
   "attachments": {},
   "cell_type": "markdown",
   "metadata": {},
   "source": [
    "# Offical example 2"
   ]
  },
  {
   "cell_type": "code",
   "execution_count": null,
   "metadata": {},
   "outputs": [],
   "source": [
    "model = whisper.load_model(\"base\")\n",
    "\n",
    "# load audio and pad/trim it to fit 30 seconds\n",
    "audio = whisper.load_audio(\"audio.mp3\")\n",
    "audio = whisper.pad_or_trim(audio)\n",
    "\n",
    "# make log-Mel spectrogram and move to the same device as the model\n",
    "mel = whisper.log_mel_spectrogram(audio).to(model.device)\n",
    "\n",
    "# detect the spoken language\n",
    "_, probs = model.detect_language(mel)\n",
    "print(f\"Detected language: {max(probs, key=probs.get)}\")\n",
    "\n",
    "# decode the audio\n",
    "options = whisper.DecodingOptions()\n",
    "result = whisper.decode(model, mel, options)\n",
    "\n",
    "# print the recognized text\n",
    "print(result.text)"
   ]
  },
  {
   "attachments": {},
   "cell_type": "markdown",
   "metadata": {},
   "source": [
    "# API test"
   ]
  },
  {
   "cell_type": "code",
   "execution_count": 2,
   "metadata": {},
   "outputs": [
    {
     "name": "stdout",
     "output_type": "stream",
     "text": [
      "Adding subtitles to fail because via python run, maybe subtitles and video formats are incompatible.\n",
      "Next try running a potentially compatible format using ffmpeg on the terminal, and import the generated subtitles for the video yourself if the error continues!!!\n"
     ]
    }
   ],
   "source": [
    "print((f\"Adding subtitles to fail because via python run, maybe subtitles and video formats are incompatible.\\n\" +\n",
    "       f\"Next try running a potentially compatible format using ffmpeg on the terminal, and import the generated subtitles for the video yourself if the error continues!!!\"))"
   ]
  },
  {
   "cell_type": "code",
   "execution_count": 2,
   "metadata": {},
   "outputs": [
    {
     "data": {
      "text/plain": [
       "'translate'"
      ]
     },
     "execution_count": 2,
     "metadata": {},
     "output_type": "execute_result"
    }
   ],
   "source": [
    "decode_options = {\"task\" : \"translate\"}\n",
    "decode_options.get(\"task\", \"transcribe\")"
   ]
  },
  {
   "cell_type": "code",
   "execution_count": 30,
   "metadata": {},
   "outputs": [],
   "source": [
    "glob.glob(\"/Users/WangHao/Downloads/录音测试/*\")\n",
    "for root, dirs, files in os.walk('/Users/WangHao/Downloads/录音测试/录音.m4a'):\n",
    "    print(root)\n",
    "    print(dirs)\n",
    "    print(files)"
   ]
  },
  {
   "cell_type": "code",
   "execution_count": 27,
   "metadata": {},
   "outputs": [
    {
     "name": "stdout",
     "output_type": "stream",
     "text": [
      "/Users/WangHao/Downloads/录音测试/录音.m4a video/mp4\n",
      "/Users/WangHao/Downloads/录音测试/录音_2.m4a video/mp4\n",
      "/Users/WangHao/Downloads/录音测试/results/录音.mp4 video/mp4\n",
      "/Users/WangHao/Downloads/录音测试/results/录音_2.mp4 video/mp4\n"
     ]
    }
   ],
   "source": [
    "for root, dirs, files in os.walk('/Users/WangHao/Downloads/录音测试'):\n",
    "    for file in files:\n",
    "        file_path = os.path.join(root, file)\n",
    "        file_type = filetype.guess(file_path)\n",
    "        if file_type:\n",
    "            if \"audio\" in filetype.guess(file_path).mime or \"video\" in filetype.guess(file_path).mime: \n",
    "                print(file_path, filetype.guess(file_path).mime)\n",
    "  "
   ]
  },
  {
   "cell_type": "code",
   "execution_count": 2,
   "metadata": {},
   "outputs": [
    {
     "name": "stdout",
     "output_type": "stream",
     "text": [
      "('/Users/WangHao/Downloads/zzpp04.com@IPX885/output', '.mp3') output /Users/WangHao/Downloads/zzpp04.com@IPX885 True True\n"
     ]
    }
   ],
   "source": [
    "print(\n",
    "os.path.splitext(\"/Users/WangHao/Downloads/zzpp04.com@IPX885/output.mp3\"),\n",
    "os.path.basename(\"/Users/WangHao/Downloads/zzpp04.com@IPX885/output\"),\n",
    "os.path.dirname(\"/Users/WangHao/Downloads/zzpp04.com@IPX885/output.mp3\"),\n",
    "os.path.isfile(\"/Users/WangHao/.cache/whisper/medium.pt\"),\n",
    "os.path.exists(\"/Users/WangHao/.cache/whisper/medium.pt\"),\n",
    "os.path.abspath('/Users/WangHao/Downloads/录音测试/录音.m4a'),\n",
    ")"
   ]
  },
  {
   "cell_type": "code",
   "execution_count": null,
   "metadata": {},
   "outputs": [],
   "source": [
    "input_path = \"/Volumes/昊大侠/电影/Cyberpunk.Edgerunners.S01.JAPANESE.1080p.NF.WEB-DL.x265.10bit.HDR.DDP5.H.265-SMURF.mkv\"\n",
    "f\"{os.path.basename(input_path)}.wav\"\n",
    "ffmpeg.probe(input_path)\n"
   ]
  },
  {
   "cell_type": "code",
   "execution_count": null,
   "metadata": {},
   "outputs": [],
   "source": [
    "kwargs = {\"t\":20, \"f\":\"mp4\", \"acodec\":\"pcm\"}\n",
    "video_stream = ffmpeg.input(input_path, **kwargs).video"
   ]
  },
  {
   "cell_type": "code",
   "execution_count": null,
   "metadata": {},
   "outputs": [],
   "source": [
    "kwargs = {\"f\":\"mp4\", \"vcodec\":\"libx264\", \"video_bitrate\":1000}\n",
    "video_stream = ffmpeg.input(input_path).video\n",
    "video_stream = video_stream.output(\"/Users/WangHao/Downloads/IPX-831/input1.mp4\", **kwargs)\n",
    "\n",
    "ffmpeg.run(video_stream, capture_stdout=True, capture_stderr=True, overwrite_output=True)"
   ]
  },
  {
   "cell_type": "code",
   "execution_count": null,
   "metadata": {},
   "outputs": [],
   "source": [
    "streams = ffmpeg.input('in.mp4')\n",
    "video = streams.video.filter('hflip')\n",
    "audio = streams.audio\n",
    "ffmpeg.concat(video, audio, v=1, a=1).overlay(ffmpeg.input(\"overlay.png\")).output(\"out.mp4\").view(detail=True)"
   ]
  },
  {
   "cell_type": "code",
   "execution_count": null,
   "metadata": {},
   "outputs": [],
   "source": [
    "streams = ffmpeg.input('/Users/WangHao/Downloads/IPX-831/IPX-831.mp4')\n",
    "video = streams.video\n",
    "audio = streams[\"a\"]\n",
    "ffmpeg.filter(audio, video, \"concat\")"
   ]
  }
 ],
 "metadata": {
  "kernelspec": {
   "display_name": "openai",
   "language": "python",
   "name": "python3"
  },
  "language_info": {
   "codemirror_mode": {
    "name": "ipython",
    "version": 3
   },
   "file_extension": ".py",
   "mimetype": "text/x-python",
   "name": "python",
   "nbconvert_exporter": "python",
   "pygments_lexer": "ipython3",
   "version": "3.8.16"
  },
  "orig_nbformat": 4,
  "vscode": {
   "interpreter": {
    "hash": "c9c961b1b0991bdc0740f743fe1aabcf20b3d8e9f0b6127268f8c7ad2f684456"
   }
  }
 },
 "nbformat": 4,
 "nbformat_minor": 2
}
